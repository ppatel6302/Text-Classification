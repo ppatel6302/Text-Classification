{
  "nbformat": 4,
  "nbformat_minor": 0,
  "metadata": {
    "colab": {
      "name": "04_Project_2_code.ipynb",
      "provenance": [],
      "collapsed_sections": []
    },
    "kernelspec": {
      "name": "python3",
      "display_name": "Python 3"
    },
    "accelerator": "GPU"
  },
  "cells": [
    {
      "cell_type": "markdown",
      "metadata": {
        "id": "nj28606iWNlI",
        "colab_type": "text"
      },
      "source": [
        "**Importing necessary libraries**"
      ]
    },
    {
      "cell_type": "code",
      "metadata": {
        "id": "McDoYV8F638N",
        "colab_type": "code",
        "outputId": "9535d23b-8d78-46ed-fa12-580cca122cee",
        "colab": {
          "base_uri": "https://localhost:8080/",
          "height": 115
        }
      },
      "source": [
        "#import all necessary libraries\n",
        "import numpy as np\n",
        "import pandas as pd\n",
        "import itertools\n",
        "import os\n",
        "import nltk\n",
        "import torch\n",
        "from sklearn.externals import joblib\n",
        "nltk.download('punkt')\n",
        "nltk.download('stopwords')\n",
        "nltk.download('wordnet')\n",
        "from nltk.tokenize import sent_tokenize, word_tokenize\n",
        "from nltk.stem import PorterStemmer\n",
        "from nltk.corpus import stopwords\n",
        "from string import punctuation\n",
        "from sklearn.preprocessing import LabelEncoder\n",
        "from sklearn.feature_extraction.text import TfidfVectorizer\n",
        "from sklearn.metrics import accuracy_score, classification_report, confusion_matrix, plot_confusion_matrix\n",
        "from sklearn.metrics import plot_roc_curve\n",
        "from sklearn.model_selection import GridSearchCV, StratifiedKFold, cross_val_score, train_test_split\n",
        "from sklearn.svm import SVC\n",
        "%matplotlib inline\n",
        "import matplotlib.pyplot as plt\n",
        "import tensorflow as tf\n",
        "from tensorflow import keras\n",
        "layers = keras.layers\n",
        "models = keras.models"
      ],
      "execution_count": 99,
      "outputs": [
        {
          "output_type": "stream",
          "text": [
            "[nltk_data] Downloading package punkt to /root/nltk_data...\n",
            "[nltk_data]   Package punkt is already up-to-date!\n",
            "[nltk_data] Downloading package stopwords to /root/nltk_data...\n",
            "[nltk_data]   Package stopwords is already up-to-date!\n",
            "[nltk_data] Downloading package wordnet to /root/nltk_data...\n",
            "[nltk_data]   Package wordnet is already up-to-date!\n"
          ],
          "name": "stdout"
        }
      ]
    },
    {
      "cell_type": "markdown",
      "metadata": {
        "id": "_qwPT0tMWWqS",
        "colab_type": "text"
      },
      "source": [
        "**Mounting drive**"
      ]
    },
    {
      "cell_type": "code",
      "metadata": {
        "id": "copf3_zZ7mKj",
        "colab_type": "code",
        "outputId": "8bdb7d17-a5c0-4aeb-849c-c29b7a12351b",
        "colab": {
          "base_uri": "https://localhost:8080/",
          "height": 33
        }
      },
      "source": [
        "from google.colab import drive \n",
        "drive.mount('/content/drive') #mount the google drive"
      ],
      "execution_count": 100,
      "outputs": [
        {
          "output_type": "stream",
          "text": [
            "Drive already mounted at /content/drive; to attempt to forcibly remount, call drive.mount(\"/content/drive\", force_remount=True).\n"
          ],
          "name": "stdout"
        }
      ]
    },
    {
      "cell_type": "markdown",
      "metadata": {
        "id": "8clV5MNrWeqv",
        "colab_type": "text"
      },
      "source": [
        "**Loading the dataset from the google drive**"
      ]
    },
    {
      "cell_type": "code",
      "metadata": {
        "id": "Iw4C2biS7HLs",
        "colab_type": "code",
        "colab": {}
      },
      "source": [
        "data = pd.read_csv(\"/content/drive/My Drive/bbc-text.csv\") #read the dataset"
      ],
      "execution_count": 0,
      "outputs": []
    },
    {
      "cell_type": "markdown",
      "metadata": {
        "id": "nf3Tw0WeWoon",
        "colab_type": "text"
      },
      "source": [
        "**Printig the first 5 raw of dataset**"
      ]
    },
    {
      "cell_type": "code",
      "metadata": {
        "id": "3ItcY5l89SCM",
        "colab_type": "code",
        "outputId": "d33fa863-d9f9-4494-e182-f0203a8c74c8",
        "colab": {
          "base_uri": "https://localhost:8080/",
          "height": 191
        }
      },
      "source": [
        "data.head()"
      ],
      "execution_count": 102,
      "outputs": [
        {
          "output_type": "execute_result",
          "data": {
            "text/html": [
              "<div>\n",
              "<style scoped>\n",
              "    .dataframe tbody tr th:only-of-type {\n",
              "        vertical-align: middle;\n",
              "    }\n",
              "\n",
              "    .dataframe tbody tr th {\n",
              "        vertical-align: top;\n",
              "    }\n",
              "\n",
              "    .dataframe thead th {\n",
              "        text-align: right;\n",
              "    }\n",
              "</style>\n",
              "<table border=\"1\" class=\"dataframe\">\n",
              "  <thead>\n",
              "    <tr style=\"text-align: right;\">\n",
              "      <th></th>\n",
              "      <th>category</th>\n",
              "      <th>text</th>\n",
              "    </tr>\n",
              "  </thead>\n",
              "  <tbody>\n",
              "    <tr>\n",
              "      <th>0</th>\n",
              "      <td>tech</td>\n",
              "      <td>tv future in the hands of viewers with home th...</td>\n",
              "    </tr>\n",
              "    <tr>\n",
              "      <th>1</th>\n",
              "      <td>business</td>\n",
              "      <td>worldcom boss  left books alone  former worldc...</td>\n",
              "    </tr>\n",
              "    <tr>\n",
              "      <th>2</th>\n",
              "      <td>sport</td>\n",
              "      <td>tigers wary of farrell  gamble  leicester say ...</td>\n",
              "    </tr>\n",
              "    <tr>\n",
              "      <th>3</th>\n",
              "      <td>sport</td>\n",
              "      <td>yeading face newcastle in fa cup premiership s...</td>\n",
              "    </tr>\n",
              "    <tr>\n",
              "      <th>4</th>\n",
              "      <td>entertainment</td>\n",
              "      <td>ocean s twelve raids box office ocean s twelve...</td>\n",
              "    </tr>\n",
              "  </tbody>\n",
              "</table>\n",
              "</div>"
            ],
            "text/plain": [
              "        category                                               text\n",
              "0           tech  tv future in the hands of viewers with home th...\n",
              "1       business  worldcom boss  left books alone  former worldc...\n",
              "2          sport  tigers wary of farrell  gamble  leicester say ...\n",
              "3          sport  yeading face newcastle in fa cup premiership s...\n",
              "4  entertainment  ocean s twelve raids box office ocean s twelve..."
            ]
          },
          "metadata": {
            "tags": []
          },
          "execution_count": 102
        }
      ]
    },
    {
      "cell_type": "markdown",
      "metadata": {
        "id": "Q546PKA1W33r",
        "colab_type": "text"
      },
      "source": [
        "**Value counts of dataset by category**"
      ]
    },
    {
      "cell_type": "code",
      "metadata": {
        "id": "oUQNs9pS77EO",
        "colab_type": "code",
        "outputId": "8e7bf2ff-71a5-4b54-e1e2-26b28b191049",
        "colab": {
          "base_uri": "https://localhost:8080/",
          "height": 115
        }
      },
      "source": [
        "data['category'].value_counts() #count the no. of data in each category"
      ],
      "execution_count": 103,
      "outputs": [
        {
          "output_type": "execute_result",
          "data": {
            "text/plain": [
              "sport            511\n",
              "business         510\n",
              "politics         417\n",
              "tech             401\n",
              "entertainment    386\n",
              "Name: category, dtype: int64"
            ]
          },
          "metadata": {
            "tags": []
          },
          "execution_count": 103
        }
      ]
    },
    {
      "cell_type": "code",
      "metadata": {
        "id": "bTMots9TVGJS",
        "colab_type": "code",
        "outputId": "2f061a04-ffd4-49a4-c2a3-f0e847e240a2",
        "colab": {
          "base_uri": "https://localhost:8080/",
          "height": 561
        }
      },
      "source": [
        "data['category'].value_counts().plot.bar(figsize=(12, 8)) #plot the graph from above result regarding counting the data in each  category"
      ],
      "execution_count": 104,
      "outputs": [
        {
          "output_type": "execute_result",
          "data": {
            "text/plain": [
              "<matplotlib.axes._subplots.AxesSubplot at 0x7f6443b7a160>"
            ]
          },
          "metadata": {
            "tags": []
          },
          "execution_count": 104
        },
        {
          "output_type": "display_data",
          "data": {
            "image/png": "[encoded data removed]",
            "text/plain": [
              "<Figure size 864x576 with 1 Axes>"
            ]
          },
          "metadata": {
            "tags": []
          }
        }
      ]
    },
    {
      "cell_type": "markdown",
      "metadata": {
        "id": "1IUfrqHodj1V",
        "colab_type": "text"
      },
      "source": [
        "**Labelizing**"
      ]
    },
    {
      "cell_type": "code",
      "metadata": {
        "id": "Ughp36H8dsyh",
        "colab_type": "code",
        "outputId": "3cd28b04-ca73-45c9-d2f9-4996cc131cc4",
        "colab": {
          "base_uri": "https://localhost:8080/",
          "height": 191
        }
      },
      "source": [
        "le = LabelEncoder() # Label the dataset category vise\n",
        "data['labels'] = le.fit_transform(data['category'])\n",
        "data.head()"
      ],
      "execution_count": 105,
      "outputs": [
        {
          "output_type": "execute_result",
          "data": {
            "text/html": [
              "<div>\n",
              "<style scoped>\n",
              "    .dataframe tbody tr th:only-of-type {\n",
              "        vertical-align: middle;\n",
              "    }\n",
              "\n",
              "    .dataframe tbody tr th {\n",
              "        vertical-align: top;\n",
              "    }\n",
              "\n",
              "    .dataframe thead th {\n",
              "        text-align: right;\n",
              "    }\n",
              "</style>\n",
              "<table border=\"1\" class=\"dataframe\">\n",
              "  <thead>\n",
              "    <tr style=\"text-align: right;\">\n",
              "      <th></th>\n",
              "      <th>category</th>\n",
              "      <th>text</th>\n",
              "      <th>labels</th>\n",
              "    </tr>\n",
              "  </thead>\n",
              "  <tbody>\n",
              "    <tr>\n",
              "      <th>0</th>\n",
              "      <td>tech</td>\n",
              "      <td>tv future in the hands of viewers with home th...</td>\n",
              "      <td>4</td>\n",
              "    </tr>\n",
              "    <tr>\n",
              "      <th>1</th>\n",
              "      <td>business</td>\n",
              "      <td>worldcom boss  left books alone  former worldc...</td>\n",
              "      <td>0</td>\n",
              "    </tr>\n",
              "    <tr>\n",
              "      <th>2</th>\n",
              "      <td>sport</td>\n",
              "      <td>tigers wary of farrell  gamble  leicester say ...</td>\n",
              "      <td>3</td>\n",
              "    </tr>\n",
              "    <tr>\n",
              "      <th>3</th>\n",
              "      <td>sport</td>\n",
              "      <td>yeading face newcastle in fa cup premiership s...</td>\n",
              "      <td>3</td>\n",
              "    </tr>\n",
              "    <tr>\n",
              "      <th>4</th>\n",
              "      <td>entertainment</td>\n",
              "      <td>ocean s twelve raids box office ocean s twelve...</td>\n",
              "      <td>1</td>\n",
              "    </tr>\n",
              "  </tbody>\n",
              "</table>\n",
              "</div>"
            ],
            "text/plain": [
              "        category                                               text  labels\n",
              "0           tech  tv future in the hands of viewers with home th...       4\n",
              "1       business  worldcom boss  left books alone  former worldc...       0\n",
              "2          sport  tigers wary of farrell  gamble  leicester say ...       3\n",
              "3          sport  yeading face newcastle in fa cup premiership s...       3\n",
              "4  entertainment  ocean s twelve raids box office ocean s twelve...       1"
            ]
          },
          "metadata": {
            "tags": []
          },
          "execution_count": 105
        }
      ]
    },
    {
      "cell_type": "markdown",
      "metadata": {
        "id": "s6I54O8aXqms",
        "colab_type": "text"
      },
      "source": [
        "**Pre-processing**"
      ]
    },
    {
      "cell_type": "code",
      "metadata": {
        "id": "dO00bMHlbrgv",
        "colab_type": "code",
        "colab": {}
      },
      "source": [
        "stemmer = PorterStemmer() #use of porter stemmer\n",
        "to_exclude = set(stopwords.words('english') + list(punctuation)) #removing stopwards and punctuations\n",
        "filter_func = lambda text: ' '.join([stemmer.stem(word) for word in word_tokenize(text) if word not in to_exclude]) "
      ],
      "execution_count": 0,
      "outputs": []
    },
    {
      "cell_type": "markdown",
      "metadata": {
        "id": "nCCcxTIyzGA2",
        "colab_type": "text"
      },
      "source": [
        "**You can see the pre-processed dataset**"
      ]
    },
    {
      "cell_type": "code",
      "metadata": {
        "id": "USxaK8u6brt7",
        "colab_type": "code",
        "outputId": "517bd6ac-627a-43e3-9f31-c558525bb1b2",
        "colab": {
          "base_uri": "https://localhost:8080/",
          "height": 191
        }
      },
      "source": [
        "data['text'] = data['text'].apply(filter_func) #applying above function\n",
        "data.head()"
      ],
      "execution_count": 107,
      "outputs": [
        {
          "output_type": "execute_result",
          "data": {
            "text/html": [
              "<div>\n",
              "<style scoped>\n",
              "    .dataframe tbody tr th:only-of-type {\n",
              "        vertical-align: middle;\n",
              "    }\n",
              "\n",
              "    .dataframe tbody tr th {\n",
              "        vertical-align: top;\n",
              "    }\n",
              "\n",
              "    .dataframe thead th {\n",
              "        text-align: right;\n",
              "    }\n",
              "</style>\n",
              "<table border=\"1\" class=\"dataframe\">\n",
              "  <thead>\n",
              "    <tr style=\"text-align: right;\">\n",
              "      <th></th>\n",
              "      <th>category</th>\n",
              "      <th>text</th>\n",
              "      <th>labels</th>\n",
              "    </tr>\n",
              "  </thead>\n",
              "  <tbody>\n",
              "    <tr>\n",
              "      <th>0</th>\n",
              "      <td>tech</td>\n",
              "      <td>tv futur hand viewer home theatr system plasma...</td>\n",
              "      <td>4</td>\n",
              "    </tr>\n",
              "    <tr>\n",
              "      <th>1</th>\n",
              "      <td>business</td>\n",
              "      <td>worldcom boss left book alon former worldcom b...</td>\n",
              "      <td>0</td>\n",
              "    </tr>\n",
              "    <tr>\n",
              "      <th>2</th>\n",
              "      <td>sport</td>\n",
              "      <td>tiger wari farrel gambl leicest say rush make ...</td>\n",
              "      <td>3</td>\n",
              "    </tr>\n",
              "    <tr>\n",
              "      <th>3</th>\n",
              "      <td>sport</td>\n",
              "      <td>yead face newcastl fa cup premiership side new...</td>\n",
              "      <td>3</td>\n",
              "    </tr>\n",
              "    <tr>\n",
              "      <th>4</th>\n",
              "      <td>entertainment</td>\n",
              "      <td>ocean twelv raid box offic ocean twelv crime c...</td>\n",
              "      <td>1</td>\n",
              "    </tr>\n",
              "  </tbody>\n",
              "</table>\n",
              "</div>"
            ],
            "text/plain": [
              "        category                                               text  labels\n",
              "0           tech  tv futur hand viewer home theatr system plasma...       4\n",
              "1       business  worldcom boss left book alon former worldcom b...       0\n",
              "2          sport  tiger wari farrel gambl leicest say rush make ...       3\n",
              "3          sport  yead face newcastl fa cup premiership side new...       3\n",
              "4  entertainment  ocean twelv raid box offic ocean twelv crime c...       1"
            ]
          },
          "metadata": {
            "tags": []
          },
          "execution_count": 107
        }
      ]
    },
    {
      "cell_type": "markdown",
      "metadata": {
        "id": "P1QvqrZrzZoe",
        "colab_type": "text"
      },
      "source": [
        "**Tf-IDF Vectorization**"
      ]
    },
    {
      "cell_type": "code",
      "metadata": {
        "id": "6-aGD9INbr4Q",
        "colab_type": "code",
        "outputId": "e62a3d65-371f-4d6b-a6b4-4804d8ef24f3",
        "colab": {
          "base_uri": "https://localhost:8080/",
          "height": 33
        }
      },
      "source": [
        "tf_vect = TfidfVectorizer(ngram_range=(1, 2)) #setting up the range of ngrams of TF-IDF vectorizer\n",
        "X = tf_vect.fit_transform(data['text'].values)\n",
        "y = data['labels'].values\n",
        "\n",
        "print('X shape: {}, y shape: {}'.format(X.shape, y.shape))"
      ],
      "execution_count": 108,
      "outputs": [
        {
          "output_type": "stream",
          "text": [
            "X shape: (2225, 338958), y shape: (2225,)\n"
          ],
          "name": "stdout"
        }
      ]
    },
    {
      "cell_type": "markdown",
      "metadata": {
        "id": "RvQwzKLCX63B",
        "colab_type": "text"
      },
      "source": [
        "**Train/Test Split in 70/30**"
      ]
    },
    {
      "cell_type": "code",
      "metadata": {
        "id": "GKUBWKFzSe5q",
        "colab_type": "code",
        "colab": {}
      },
      "source": [
        "X_train, X_test, y_train, y_test = train_test_split(X, y, test_size=0.3) # set the train test  split"
      ],
      "execution_count": 0,
      "outputs": []
    },
    {
      "cell_type": "markdown",
      "metadata": {
        "id": "5KMmJjp3YGgN",
        "colab_type": "text"
      },
      "source": [
        "**Proposed Model**"
      ]
    },
    {
      "cell_type": "code",
      "metadata": {
        "id": "STT1TJaybsBv",
        "colab_type": "code",
        "outputId": "e563322e-7b2d-48ee-9a5f-c0d866d5f9b1",
        "colab": {
          "base_uri": "https://localhost:8080/",
          "height": 261
        }
      },
      "source": [
        "svc = SVC(random_state=1) #use support vector classifier setting up random state as 1\n",
        "svc.get_params() # to get the all parameters "
      ],
      "execution_count": 110,
      "outputs": [
        {
          "output_type": "execute_result",
          "data": {
            "text/plain": [
              "{'C': 1.0,\n",
              " 'break_ties': False,\n",
              " 'cache_size': 200,\n",
              " 'class_weight': None,\n",
              " 'coef0': 0.0,\n",
              " 'decision_function_shape': 'ovr',\n",
              " 'degree': 3,\n",
              " 'gamma': 'scale',\n",
              " 'kernel': 'rbf',\n",
              " 'max_iter': -1,\n",
              " 'probability': False,\n",
              " 'random_state': 1,\n",
              " 'shrinking': True,\n",
              " 'tol': 0.001,\n",
              " 'verbose': False}"
            ]
          },
          "metadata": {
            "tags": []
          },
          "execution_count": 110
        }
      ]
    },
    {
      "cell_type": "code",
      "metadata": {
        "id": "mo-0gh9PbsL7",
        "colab_type": "code",
        "colab": {}
      },
      "source": [
        "svc_grid = {\n",
        "    'kernel': ['poly', 'rbf', 'sigmoid', 'linear'],\n",
        "    'C': np.linspace(.1, .9, 6) \n",
        "}"
      ],
      "execution_count": 0,
      "outputs": []
    },
    {
      "cell_type": "code",
      "metadata": {
        "id": "_as-VS-qbssd",
        "colab_type": "code",
        "outputId": "37d9fe01-8c10-413e-9e8c-500dafcbcf9e",
        "colab": {
          "base_uri": "https://localhost:8080/",
          "height": 228
        }
      },
      "source": [
        "cv = StratifiedKFold(n_splits=5, shuffle=True, random_state=1) #applying gridsearch method for getting the best parameters to apply on model\n",
        "grid_search_estimator = GridSearchCV(svc, svc_grid, scoring='accuracy', cv=cv, n_jobs=-1)\n",
        "grid_search_estimator.fit(X, y)"
      ],
      "execution_count": 123,
      "outputs": [
        {
          "output_type": "execute_result",
          "data": {
            "text/plain": [
              "GridSearchCV(cv=StratifiedKFold(n_splits=4, random_state=1, shuffle=True),\n",
              "             error_score=nan,\n",
              "             estimator=SVC(C=1.0, break_ties=False, cache_size=200,\n",
              "                           class_weight=None, coef0=0.0,\n",
              "                           decision_function_shape='ovr', degree=3,\n",
              "                           gamma='scale', kernel='rbf', max_iter=-1,\n",
              "                           probability=False, random_state=1, shrinking=True,\n",
              "                           tol=0.001, verbose=False),\n",
              "             iid='deprecated', n_jobs=-1,\n",
              "             param_grid={'C': array([0.1 , 0.26, 0.42, 0.58, 0.74, 0.9 ]),\n",
              "                         'kernel': ['poly', 'rbf', 'sigmoid', 'linear']},\n",
              "             pre_dispatch='2*n_jobs', refit=True, return_train_score=False,\n",
              "             scoring='accuracy', verbose=0)"
            ]
          },
          "metadata": {
            "tags": []
          },
          "execution_count": 123
        }
      ]
    },
    {
      "cell_type": "markdown",
      "metadata": {
        "id": "jhQoi0mVdq-K",
        "colab_type": "text"
      },
      "source": [
        "grid_search_estimator.best_params_"
      ]
    },
    {
      "cell_type": "code",
      "metadata": {
        "id": "29-u3NZgdrIJ",
        "colab_type": "code",
        "outputId": "2ed59ebc-c392-429f-b2e0-db35d7657896",
        "colab": {
          "base_uri": "https://localhost:8080/",
          "height": 33
        }
      },
      "source": [
        "print('SVM best score: {:.8f}'.format(grid_search_estimator.best_score_)) "
      ],
      "execution_count": 124,
      "outputs": [
        {
          "output_type": "stream",
          "text": [
            "SVM best score: 0.97707319\n"
          ],
          "name": "stdout"
        }
      ]
    },
    {
      "cell_type": "markdown",
      "metadata": {
        "id": "NUe7zurXydke",
        "colab_type": "text"
      },
      "source": [
        "**Finding and applying best parameters**"
      ]
    },
    {
      "cell_type": "code",
      "metadata": {
        "id": "2tObAdLcehkD",
        "colab_type": "code",
        "colab": {}
      },
      "source": [
        "predicted = grid_search_estimator.best_estimator_.fit(X_train, y_train).predict(X_test) #Call predict on the estimator with the best found parameters."
      ],
      "execution_count": 0,
      "outputs": []
    },
    {
      "cell_type": "markdown",
      "metadata": {
        "id": "QQX6GsWPN0g6",
        "colab_type": "text"
      },
      "source": [
        "**Visualize the confusion matrix**"
      ]
    },
    {
      "cell_type": "code",
      "metadata": {
        "id": "RA29yc7l2Kjq",
        "colab_type": "code",
        "outputId": "c8c11e0c-66b1-442b-bfbc-e0bc117cb3f9",
        "colab": {
          "base_uri": "https://localhost:8080/",
          "height": 98
        }
      },
      "source": [
        "print(confusion_matrix(y_test, predicted)) #confusion metrix of the model"
      ],
      "execution_count": 126,
      "outputs": [
        {
          "output_type": "stream",
          "text": [
            "[[155   2   5   0   0]\n",
            " [  0 110   0   0   1]\n",
            " [  0   0 115   0   0]\n",
            " [  1   0   0 155   0]\n",
            " [  0   1   0   0 123]]\n"
          ],
          "name": "stdout"
        }
      ]
    },
    {
      "cell_type": "code",
      "metadata": {
        "id": "8cbNDVZLeh5Y",
        "colab_type": "code",
        "outputId": "60ed7f4f-9689-46d9-921c-7ad156f2d6c2",
        "colab": {
          "base_uri": "https://localhost:8080/",
          "height": 212
        }
      },
      "source": [
        "print(classification_report(y_test, predicted)) #final output"
      ],
      "execution_count": 127,
      "outputs": [
        {
          "output_type": "stream",
          "text": [
            "              precision    recall  f1-score   support\n",
            "\n",
            "           0       0.99      0.96      0.97       162\n",
            "           1       0.97      0.99      0.98       111\n",
            "           2       0.96      1.00      0.98       115\n",
            "           3       1.00      0.99      1.00       156\n",
            "           4       0.99      0.99      0.99       124\n",
            "\n",
            "    accuracy                           0.99       668\n",
            "   macro avg       0.98      0.99      0.98       668\n",
            "weighted avg       0.99      0.99      0.99       668\n",
            "\n"
          ],
          "name": "stdout"
        }
      ]
    },
    {
      "cell_type": "code",
      "metadata": {
        "id": "mMN49Sj35kjp",
        "colab_type": "code",
        "outputId": "403ee3f1-8921-43dd-fd5c-93b37322194e",
        "colab": {
          "base_uri": "https://localhost:8080/",
          "height": 33
        }
      },
      "source": [
        "joblib.dump(grid_search_estimator.best_estimator_, 'project2.h5') #to save the model"
      ],
      "execution_count": 117,
      "outputs": [
        {
          "output_type": "execute_result",
          "data": {
            "text/plain": [
              "['project2.h5']"
            ]
          },
          "metadata": {
            "tags": []
          },
          "execution_count": 117
        }
      ]
    }
  ]
}